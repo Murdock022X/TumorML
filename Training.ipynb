{
 "cells": [
  {
   "cell_type": "code",
   "execution_count": 2,
   "id": "b9fe4e63-2ae1-47cd-a488-b56cef5ff0b1",
   "metadata": {},
   "outputs": [
    {
     "name": "stderr",
     "output_type": "stream",
     "text": [
      "2024-03-04 12:51:14.312954: I external/local_tsl/tsl/cuda/cudart_stub.cc:31] Could not find cuda drivers on your machine, GPU will not be used.\n",
      "2024-03-04 12:51:14.353001: E external/local_xla/xla/stream_executor/cuda/cuda_dnn.cc:9261] Unable to register cuDNN factory: Attempting to register factory for plugin cuDNN when one has already been registered\n",
      "2024-03-04 12:51:14.353057: E external/local_xla/xla/stream_executor/cuda/cuda_fft.cc:607] Unable to register cuFFT factory: Attempting to register factory for plugin cuFFT when one has already been registered\n",
      "2024-03-04 12:51:14.354225: E external/local_xla/xla/stream_executor/cuda/cuda_blas.cc:1515] Unable to register cuBLAS factory: Attempting to register factory for plugin cuBLAS when one has already been registered\n",
      "2024-03-04 12:51:14.360799: I external/local_tsl/tsl/cuda/cudart_stub.cc:31] Could not find cuda drivers on your machine, GPU will not be used.\n",
      "2024-03-04 12:51:14.361494: I tensorflow/core/platform/cpu_feature_guard.cc:182] This TensorFlow binary is optimized to use available CPU instructions in performance-critical operations.\n",
      "To enable the following instructions: AVX2 FMA, in other operations, rebuild TensorFlow with the appropriate compiler flags.\n",
      "2024-03-04 12:51:15.816403: W tensorflow/compiler/tf2tensorrt/utils/py_utils.cc:38] TF-TRT Warning: Could not find TensorRT\n"
     ]
    }
   ],
   "source": [
    "from models.ffnn import BrainFFNN\n",
    "from models.vgg import BrainVGG"
   ]
  },
  {
   "cell_type": "code",
   "execution_count": 2,
   "id": "4379ec26-a46c-4a49-98d6-01eb4d9e01f7",
   "metadata": {},
   "outputs": [
    {
     "name": "stdout",
     "output_type": "stream",
     "text": [
      "Found 5712 files belonging to 4 classes.\n",
      "Using 4570 files for training.\n",
      "Found 5712 files belonging to 4 classes.\n",
      "Using 1142 files for validation.\n",
      "Found 1311 files belonging to 4 classes.\n"
     ]
    }
   ],
   "source": [
    "ffnn = BrainFFNN()"
   ]
  },
  {
   "cell_type": "code",
   "execution_count": 3,
   "id": "7ac51510-fad8-4367-a3ee-25fb60ce0f19",
   "metadata": {},
   "outputs": [
    {
     "data": {
      "text/plain": [
       "<_TakeDataset element_spec=(TensorSpec(shape=(None, 256, 256, 1), dtype=tf.float32, name=None), TensorSpec(shape=(None,), dtype=tf.int32, name=None))>"
      ]
     },
     "execution_count": 3,
     "metadata": {},
     "output_type": "execute_result"
    }
   ],
   "source": [
    "ffnn.train_ds.take(1)"
   ]
  },
  {
   "cell_type": "code",
   "execution_count": 4,
   "id": "2ac162bf-039a-4bf3-b459-b8f483f123df",
   "metadata": {},
   "outputs": [
    {
     "name": "stdout",
     "output_type": "stream",
     "text": [
      "Epoch 1/15\n",
      "143/143 [==============================] - 101s 703ms/step - loss: 558.6781 - accuracy: 0.5370 - val_loss: 119.6484 - val_accuracy: 0.5079\n",
      "Epoch 2/15\n",
      "143/143 [==============================] - 103s 717ms/step - loss: 56.6733 - accuracy: 0.6864 - val_loss: 43.8797 - val_accuracy: 0.7163\n",
      "Epoch 3/15\n",
      "143/143 [==============================] - 102s 715ms/step - loss: 28.7600 - accuracy: 0.7560 - val_loss: 82.2960 - val_accuracy: 0.4930\n",
      "Epoch 4/15\n",
      "143/143 [==============================] - 101s 705ms/step - loss: 25.3800 - accuracy: 0.7632 - val_loss: 24.0046 - val_accuracy: 0.7259\n",
      "Epoch 5/15\n",
      "143/143 [==============================] - 99s 691ms/step - loss: 17.4683 - accuracy: 0.7923 - val_loss: 21.0772 - val_accuracy: 0.7750\n",
      "Epoch 6/15\n",
      "143/143 [==============================] - 97s 677ms/step - loss: 9.4280 - accuracy: 0.8486 - val_loss: 27.8099 - val_accuracy: 0.7662\n",
      "Epoch 7/15\n",
      "143/143 [==============================] - 99s 694ms/step - loss: 16.7039 - accuracy: 0.7656 - val_loss: 16.3953 - val_accuracy: 0.7688\n",
      "Epoch 8/15\n",
      "143/143 [==============================] - 97s 678ms/step - loss: 11.2788 - accuracy: 0.7967 - val_loss: 15.7130 - val_accuracy: 0.7706\n",
      "Epoch 9/15\n",
      "143/143 [==============================] - 98s 682ms/step - loss: 8.6152 - accuracy: 0.8208 - val_loss: 15.6188 - val_accuracy: 0.7671\n",
      "Epoch 10/15\n",
      "143/143 [==============================] - 97s 675ms/step - loss: 7.7192 - accuracy: 0.8201 - val_loss: 17.0176 - val_accuracy: 0.7785\n",
      "Epoch 11/15\n",
      "143/143 [==============================] - 100s 699ms/step - loss: 4.7519 - accuracy: 0.8796 - val_loss: 11.3435 - val_accuracy: 0.8187\n",
      "Epoch 12/15\n",
      "143/143 [==============================] - 98s 686ms/step - loss: 5.3180 - accuracy: 0.8499 - val_loss: 18.4375 - val_accuracy: 0.7539\n",
      "Epoch 13/15\n",
      "143/143 [==============================] - 97s 682ms/step - loss: 5.2432 - accuracy: 0.8442 - val_loss: 15.0740 - val_accuracy: 0.7688\n",
      "Epoch 14/15\n",
      "143/143 [==============================] - 98s 683ms/step - loss: 7.9363 - accuracy: 0.8074 - val_loss: 29.7527 - val_accuracy: 0.6462\n",
      "Epoch 15/15\n",
      "143/143 [==============================] - 95s 665ms/step - loss: 7.7020 - accuracy: 0.8197 - val_loss: 19.8763 - val_accuracy: 0.7417\n"
     ]
    }
   ],
   "source": [
    "hist = ffnn.train(epochs=15)"
   ]
  },
  {
   "cell_type": "code",
   "execution_count": 5,
   "id": "a40c3678-aa56-4b1d-9e0d-a1cbeebce082",
   "metadata": {},
   "outputs": [
    {
     "name": "stdout",
     "output_type": "stream",
     "text": [
      "41/41 [==============================] - 1s 20ms/step - loss: 23.4602 - accuracy: 0.7414\n"
     ]
    }
   ],
   "source": [
    "ffnn.eval()"
   ]
  },
  {
   "cell_type": "code",
   "execution_count": 11,
   "id": "cfe88390-a17e-4051-8595-2240336767a0",
   "metadata": {},
   "outputs": [
    {
     "data": {
      "image/png": "[encoded data removed]",
      "text/plain": [
       "<Figure size 800x500 with 1 Axes>"
      ]
     },
     "metadata": {},
     "output_type": "display_data"
    }
   ],
   "source": [
    "import pandas as pd\n",
    "import matplotlib.pyplot as plt\n",
    "\n",
    "pd.DataFrame(hist.history).plot(figsize=(8, 5))\n",
    "plt.grid(True)\n",
    "plt.gca().set_ylim(0, 1)\n",
    "plt.show()"
   ]
  },
  {
   "cell_type": "code",
   "execution_count": 12,
   "id": "44fd4a06",
   "metadata": {},
   "outputs": [
    {
     "name": "stdout",
     "output_type": "stream",
     "text": [
      "Model: \"sequential\"\n",
      "_________________________________________________________________\n",
      " Layer (type)                Output Shape              Param #   \n",
      "=================================================================\n",
      " flatten (Flatten)           (None, 65536)             0         \n",
      "                                                                 \n",
      " dense (Dense)               (None, 256)               16777472  \n",
      "                                                                 \n",
      " dense_1 (Dense)             (None, 128)               32896     \n",
      "                                                                 \n",
      " dense_2 (Dense)             (None, 4)                 516       \n",
      "                                                                 \n",
      "=================================================================\n",
      "Total params: 16810884 (64.13 MB)\n",
      "Trainable params: 16810884 (64.13 MB)\n",
      "Non-trainable params: 0 (0.00 Byte)\n",
      "_________________________________________________________________\n"
     ]
    }
   ],
   "source": [
    "ffnn.model.summary()"
   ]
  },
  {
   "cell_type": "code",
   "execution_count": 13,
   "id": "9ddcb644-8962-4ffb-9693-6a15696872ca",
   "metadata": {},
   "outputs": [],
   "source": [
    "ffnn.save()"
   ]
  },
  {
   "cell_type": "code",
   "execution_count": 3,
   "id": "5bfa87cc",
   "metadata": {},
   "outputs": [
    {
     "name": "stdout",
     "output_type": "stream",
     "text": [
      "Found 5712 files belonging to 4 classes.\n",
      "Using 4570 files for training.\n",
      "Found 5712 files belonging to 4 classes.\n",
      "Using 1142 files for validation.\n",
      "Found 1311 files belonging to 4 classes.\n"
     ]
    }
   ],
   "source": [
    "vgg = BrainVGG()"
   ]
  },
  {
   "cell_type": "code",
   "execution_count": null,
   "id": "62a00029",
   "metadata": {},
   "outputs": [
    {
     "name": "stdout",
     "output_type": "stream",
     "text": [
      "Epoch 1/20\n",
      "  4/143 [..............................] - ETA: 3:12:34 - loss: 630.7690 - accuracy: 0.2969"
     ]
    }
   ],
   "source": [
    "hist = vgg.train(epochs=20)"
   ]
  },
  {
   "cell_type": "code",
   "execution_count": null,
   "id": "40e108ec",
   "metadata": {},
   "outputs": [],
   "source": [
    "vgg.eval()"
   ]
  },
  {
   "cell_type": "code",
   "execution_count": null,
   "id": "7b308aad-4896-4a37-ba22-012c08994907",
   "metadata": {},
   "outputs": [],
   "source": [
    "import pandas as pd\n",
    "\n",
    "pd.DataFrame(hist.history).plot(figsize=(8, 5))\n",
    "plt.grid(True)\n",
    "plt.gca().set_ylim(0, 1)\n",
    "plt.show()"
   ]
  },
  {
   "cell_type": "code",
   "execution_count": 4,
   "id": "e25ae34f",
   "metadata": {},
   "outputs": [
    {
     "name": "stdout",
     "output_type": "stream",
     "text": [
      "Model: \"vgg19\"\n",
      "_________________________________________________________________\n",
      " Layer (type)                Output Shape              Param #   \n",
      "=================================================================\n",
      " input_1 (InputLayer)        [(None, 256, 256, 1)]     0         \n",
      "                                                                 \n",
      " block1_conv1 (Conv2D)       (None, 256, 256, 64)      640       \n",
      "                                                                 \n",
      " block1_conv2 (Conv2D)       (None, 256, 256, 64)      36928     \n",
      "                                                                 \n",
      " block1_pool (MaxPooling2D)  (None, 128, 128, 64)      0         \n",
      "                                                                 \n",
      " block2_conv1 (Conv2D)       (None, 128, 128, 128)     73856     \n",
      "                                                                 \n",
      " block2_conv2 (Conv2D)       (None, 128, 128, 128)     147584    \n",
      "                                                                 \n",
      " block2_pool (MaxPooling2D)  (None, 64, 64, 128)       0         \n",
      "                                                                 \n",
      " block3_conv1 (Conv2D)       (None, 64, 64, 256)       295168    \n",
      "                                                                 \n",
      " block3_conv2 (Conv2D)       (None, 64, 64, 256)       590080    \n",
      "                                                                 \n",
      " block3_conv3 (Conv2D)       (None, 64, 64, 256)       590080    \n",
      "                                                                 \n",
      " block3_conv4 (Conv2D)       (None, 64, 64, 256)       590080    \n",
      "                                                                 \n",
      " block3_pool (MaxPooling2D)  (None, 32, 32, 256)       0         \n",
      "                                                                 \n",
      " block4_conv1 (Conv2D)       (None, 32, 32, 512)       1180160   \n",
      "                                                                 \n",
      " block4_conv2 (Conv2D)       (None, 32, 32, 512)       2359808   \n",
      "                                                                 \n",
      " block4_conv3 (Conv2D)       (None, 32, 32, 512)       2359808   \n",
      "                                                                 \n",
      " block4_conv4 (Conv2D)       (None, 32, 32, 512)       2359808   \n",
      "                                                                 \n",
      " block4_pool (MaxPooling2D)  (None, 16, 16, 512)       0         \n",
      "                                                                 \n",
      " block5_conv1 (Conv2D)       (None, 16, 16, 512)       2359808   \n",
      "                                                                 \n",
      " block5_conv2 (Conv2D)       (None, 16, 16, 512)       2359808   \n",
      "                                                                 \n",
      " block5_conv3 (Conv2D)       (None, 16, 16, 512)       2359808   \n",
      "                                                                 \n",
      " block5_conv4 (Conv2D)       (None, 16, 16, 512)       2359808   \n",
      "                                                                 \n",
      " block5_pool (MaxPooling2D)  (None, 8, 8, 512)         0         \n",
      "                                                                 \n",
      " flatten (Flatten)           (None, 32768)             0         \n",
      "                                                                 \n",
      " fc1 (Dense)                 (None, 4096)              134221824 \n",
      "                                                                 \n",
      " fc2 (Dense)                 (None, 4096)              16781312  \n",
      "                                                                 \n",
      " predictions (Dense)         (None, 4)                 16388     \n",
      "                                                                 \n",
      "=================================================================\n",
      "Total params: 171042756 (652.48 MB)\n",
      "Trainable params: 171042756 (652.48 MB)\n",
      "Non-trainable params: 0 (0.00 Byte)\n",
      "_________________________________________________________________\n"
     ]
    }
   ],
   "source": [
    "vgg.model.summary()"
   ]
  },
  {
   "cell_type": "code",
   "execution_count": null,
   "id": "b96d59c6",
   "metadata": {},
   "outputs": [],
   "source": [
    "vgg.save()"
   ]
  }
 ],
 "metadata": {
  "kernelspec": {
   "display_name": "Python 3.11 (default)",
   "language": "python",
   "name": "python3"
  },
  "language_info": {
   "codemirror_mode": {
    "name": "ipython",
    "version": 3
   },
   "file_extension": ".py",
   "mimetype": "text/x-python",
   "name": "python",
   "nbconvert_exporter": "python",
   "pygments_lexer": "ipython3",
   "version": "3.11.6"
  }
 },
 "nbformat": 4,
 "nbformat_minor": 5
}
