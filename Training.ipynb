{
 "cells": [
  {
   "cell_type": "code",
   "execution_count": 1,
   "id": "b9fe4e63-2ae1-47cd-a488-b56cef5ff0b1",
   "metadata": {},
   "outputs": [],
   "source": [
    "from models.ffnn import BrainFFNN\n",
    "from models.vgg import BrainVGG\n",
    "from sklearn.metrics import classification_report\n",
    "import pandas as pd\n",
    "import matplotlib.pyplot as plt\n",
    "import numpy as np"
   ]
  },
  {
   "cell_type": "code",
   "execution_count": 2,
   "id": "4379ec26-a46c-4a49-98d6-01eb4d9e01f7",
   "metadata": {},
   "outputs": [
    {
     "name": "stdout",
     "output_type": "stream",
     "text": [
      "Found 5712 files belonging to 4 classes.\n",
      "Using 4570 files for training.\n",
      "Found 5712 files belonging to 4 classes.\n",
      "Using 1142 files for validation.\n",
      "Found 1311 files belonging to 4 classes.\n"
     ]
    }
   ],
   "source": [
    "ffnn = BrainFFNN()"
   ]
  },
  {
   "cell_type": "code",
   "execution_count": 3,
   "id": "7ac51510-fad8-4367-a3ee-25fb60ce0f19",
   "metadata": {},
   "outputs": [
    {
     "data": {
      "text/plain": [
       "<_TakeDataset element_spec=(TensorSpec(shape=(None, 256, 256, 1), dtype=tf.float32, name=None), TensorSpec(shape=(None,), dtype=tf.int32, name=None))>"
      ]
     },
     "execution_count": 3,
     "metadata": {},
     "output_type": "execute_result"
    }
   ],
   "source": [
    "ffnn.train_ds.take(1)"
   ]
  },
  {
   "cell_type": "code",
   "execution_count": 4,
   "id": "2ac162bf-039a-4bf3-b459-b8f483f123df",
   "metadata": {},
   "outputs": [],
   "source": [
    "# hist = ffnn.train(epochs=12)\n",
    "loaded = True\n",
    "try:\n",
    "    ffnn.load()\n",
    "except:\n",
    "    hist = ffnn.train(epochs=12)\n",
    "    loaded = False"
   ]
  },
  {
   "cell_type": "code",
   "execution_count": 5,
   "id": "a40c3678-aa56-4b1d-9e0d-a1cbeebce082",
   "metadata": {},
   "outputs": [
    {
     "name": "stdout",
     "output_type": "stream",
     "text": [
      "41/41 [==============================] - 0s 7ms/step - loss: 15.8647 - accuracy: 0.7719\n"
     ]
    }
   ],
   "source": [
    "ffnn.eval()"
   ]
  },
  {
   "cell_type": "code",
   "execution_count": 6,
   "id": "24cc4ccc",
   "metadata": {},
   "outputs": [
    {
     "name": "stdout",
     "output_type": "stream",
     "text": [
      "41/41 [==============================] - 0s 5ms/step\n"
     ]
    }
   ],
   "source": [
    "X1 = [(x[0],x[1]) for x in ffnn.test_ds.as_numpy_iterator()]\n",
    "\n",
    "X, labels = np.array(X1[0][0]), np.array(X1[0][1])\n",
    "\n",
    "for i in range(1, len(X1)):\n",
    "    X = np.concatenate((X, X1[i][0]))\n",
    "    labels = np.concatenate((labels, X1[i][1]))\n",
    "    \n",
    "prediction_probabilities = ffnn.model.predict(X)\n",
    "predicted_labels = prediction_probabilities.argmax(axis=1)"
   ]
  },
  {
   "cell_type": "code",
   "execution_count": 7,
   "id": "85b77edd",
   "metadata": {},
   "outputs": [
    {
     "name": "stdout",
     "output_type": "stream",
     "text": [
      "              precision    recall  f1-score   support\n",
      "\n",
      "           0       0.43      0.87      0.57       147\n",
      "           1       0.64      0.67      0.65       292\n",
      "           2       1.00      0.74      0.85       541\n",
      "           3       0.95      0.86      0.91       331\n",
      "\n",
      "    accuracy                           0.77      1311\n",
      "   macro avg       0.75      0.79      0.75      1311\n",
      "weighted avg       0.84      0.77      0.79      1311\n",
      "\n"
     ]
    }
   ],
   "source": [
    "print(classification_report(predicted_labels, labels))"
   ]
  },
  {
   "cell_type": "code",
   "execution_count": 8,
   "id": "cfe88390-a17e-4051-8595-2240336767a0",
   "metadata": {},
   "outputs": [],
   "source": [
    "# Only has the data to show hist if weights were not loaded\n",
    "if not loaded:\n",
    "    pd.DataFrame(hist.history).plot(figsize=(8, 5))\n",
    "    plt.grid(True)\n",
    "    plt.gca().set_ylim(0, 1)\n",
    "    plt.show()"
   ]
  },
  {
   "cell_type": "code",
   "execution_count": 9,
   "id": "44fd4a06",
   "metadata": {},
   "outputs": [
    {
     "name": "stdout",
     "output_type": "stream",
     "text": [
      "Model: \"sequential\"\n",
      "_________________________________________________________________\n",
      " Layer (type)                Output Shape              Param #   \n",
      "=================================================================\n",
      " flatten (Flatten)           (None, 65536)             0         \n",
      "                                                                 \n",
      " dense (Dense)               (None, 256)               16777472  \n",
      "                                                                 \n",
      " dense_1 (Dense)             (None, 128)               32896     \n",
      "                                                                 \n",
      " dense_2 (Dense)             (None, 4)                 516       \n",
      "                                                                 \n",
      "=================================================================\n",
      "Total params: 16810884 (64.13 MB)\n",
      "Trainable params: 16810884 (64.13 MB)\n",
      "Non-trainable params: 0 (0.00 Byte)\n",
      "_________________________________________________________________\n"
     ]
    }
   ],
   "source": [
    "ffnn.model.summary()"
   ]
  },
  {
   "cell_type": "code",
   "execution_count": 10,
   "id": "9ddcb644-8962-4ffb-9693-6a15696872ca",
   "metadata": {},
   "outputs": [],
   "source": [
    "if not loaded:\n",
    "    ffnn.save()"
   ]
  },
  {
   "cell_type": "code",
   "execution_count": 11,
   "id": "5bfa87cc",
   "metadata": {},
   "outputs": [
    {
     "name": "stdout",
     "output_type": "stream",
     "text": [
      "Found 5712 files belonging to 4 classes.\n",
      "Using 4570 files for training.\n",
      "Found 5712 files belonging to 4 classes.\n",
      "Using 1142 files for validation.\n",
      "Found 1311 files belonging to 4 classes.\n"
     ]
    }
   ],
   "source": [
    "vgg = BrainVGG()"
   ]
  },
  {
   "cell_type": "code",
   "execution_count": 12,
   "id": "62a00029",
   "metadata": {},
   "outputs": [],
   "source": [
    "loaded = True\n",
    "try:\n",
    "    vgg.load()\n",
    "except:\n",
    "    hist = vgg.train(epochs=10)\n",
    "    loaded = False"
   ]
  },
  {
   "cell_type": "code",
   "execution_count": 13,
   "id": "7b308aad-4896-4a37-ba22-012c08994907",
   "metadata": {},
   "outputs": [],
   "source": [
    "if not loaded:\n",
    "    pd.DataFrame(hist.history).plot(figsize=(8, 5))\n",
    "    plt.grid(True)\n",
    "    plt.gca().set_ylim(0, 1)\n",
    "    plt.show()"
   ]
  },
  {
   "cell_type": "code",
   "execution_count": 14,
   "id": "82ab6aa9",
   "metadata": {},
   "outputs": [
    {
     "name": "stdout",
     "output_type": "stream",
     "text": [
      "Model: \"vgg19\"\n",
      "_________________________________________________________________\n",
      " Layer (type)                Output Shape              Param #   \n",
      "=================================================================\n",
      " input_1 (InputLayer)        [(None, 256, 256, 1)]     0         \n",
      "                                                                 \n",
      " block1_conv1 (Conv2D)       (None, 256, 256, 64)      640       \n",
      "                                                                 \n",
      " block1_conv2 (Conv2D)       (None, 256, 256, 64)      36928     \n",
      "                                                                 \n",
      " block1_pool (MaxPooling2D)  (None, 128, 128, 64)      0         \n",
      "                                                                 \n",
      " block2_conv1 (Conv2D)       (None, 128, 128, 128)     73856     \n",
      "                                                                 \n",
      " block2_conv2 (Conv2D)       (None, 128, 128, 128)     147584    \n",
      "                                                                 \n",
      " block2_pool (MaxPooling2D)  (None, 64, 64, 128)       0         \n",
      "                                                                 \n",
      " block3_conv1 (Conv2D)       (None, 64, 64, 256)       295168    \n",
      "                                                                 \n",
      " block3_conv2 (Conv2D)       (None, 64, 64, 256)       590080    \n",
      "                                                                 \n",
      " block3_conv3 (Conv2D)       (None, 64, 64, 256)       590080    \n",
      "                                                                 \n",
      " block3_conv4 (Conv2D)       (None, 64, 64, 256)       590080    \n",
      "                                                                 \n",
      " block3_pool (MaxPooling2D)  (None, 32, 32, 256)       0         \n",
      "                                                                 \n",
      " block4_conv1 (Conv2D)       (None, 32, 32, 512)       1180160   \n",
      "                                                                 \n",
      " block4_conv2 (Conv2D)       (None, 32, 32, 512)       2359808   \n",
      "                                                                 \n",
      " block4_conv3 (Conv2D)       (None, 32, 32, 512)       2359808   \n",
      "                                                                 \n",
      " block4_conv4 (Conv2D)       (None, 32, 32, 512)       2359808   \n",
      "                                                                 \n",
      " block4_pool (MaxPooling2D)  (None, 16, 16, 512)       0         \n",
      "                                                                 \n",
      " block5_conv1 (Conv2D)       (None, 16, 16, 512)       2359808   \n",
      "                                                                 \n",
      " block5_conv2 (Conv2D)       (None, 16, 16, 512)       2359808   \n",
      "                                                                 \n",
      " block5_conv3 (Conv2D)       (None, 16, 16, 512)       2359808   \n",
      "                                                                 \n",
      " block5_conv4 (Conv2D)       (None, 16, 16, 512)       2359808   \n",
      "                                                                 \n",
      " block5_pool (MaxPooling2D)  (None, 8, 8, 512)         0         \n",
      "                                                                 \n",
      " flatten (Flatten)           (None, 32768)             0         \n",
      "                                                                 \n",
      " fc1 (Dense)                 (None, 4096)              134221824 \n",
      "                                                                 \n",
      " fc2 (Dense)                 (None, 4096)              16781312  \n",
      "                                                                 \n",
      " predictions (Dense)         (None, 4)                 16388     \n",
      "                                                                 \n",
      "=================================================================\n",
      "Total params: 171042756 (652.48 MB)\n",
      "Trainable params: 171042756 (652.48 MB)\n",
      "Non-trainable params: 0 (0.00 Byte)\n",
      "_________________________________________________________________\n"
     ]
    }
   ],
   "source": [
    "vgg.model.summary()\n",
    "if not loaded:\n",
    "    vgg.save()"
   ]
  },
  {
   "cell_type": "code",
   "execution_count": 17,
   "id": "40e108ec",
   "metadata": {},
   "outputs": [
    {
     "name": "stdout",
     "output_type": "stream",
     "text": [
      "41/41 [==============================] - 163s 4s/step\n"
     ]
    }
   ],
   "source": [
    "X1 = [(x[0],x[1]) for x in vgg.test_ds.as_numpy_iterator()]\n",
    "\n",
    "X, labels = np.array(X1[0][0]), np.array(X1[0][1])\n",
    "\n",
    "for i in range(1, len(X1)):\n",
    "    X = np.concatenate((X, X1[i][0]))\n",
    "    labels = np.concatenate((labels, X1[i][1]))\n",
    "    \n",
    "prediction_probabilities = vgg.model.predict(X)\n",
    "predicted_labels = prediction_probabilities.argmax(axis=1)"
   ]
  },
  {
   "cell_type": "code",
   "execution_count": 18,
   "id": "04da8bd9",
   "metadata": {},
   "outputs": [
    {
     "name": "stdout",
     "output_type": "stream",
     "text": [
      "              precision    recall  f1-score   support\n",
      "\n",
      "           0       0.95      0.72      0.82       300\n",
      "           1       0.73      0.72      0.73       306\n",
      "           2       0.87      0.99      0.93       405\n",
      "           3       0.90      0.97      0.93       300\n",
      "\n",
      "    accuracy                           0.86      1311\n",
      "   macro avg       0.86      0.85      0.85      1311\n",
      "weighted avg       0.86      0.86      0.86      1311\n",
      "\n"
     ]
    }
   ],
   "source": [
    "# Generates a classification report on the first batch of images\n",
    "print(classification_report(labels, predicted_labels))"
   ]
  },
  {
   "cell_type": "code",
   "execution_count": null,
   "id": "6b2171e9",
   "metadata": {},
   "outputs": [],
   "source": []
  }
 ],
 "metadata": {
  "kernelspec": {
   "display_name": "Python 3 (ipykernel)",
   "language": "python",
   "name": "python3"
  },
  "language_info": {
   "codemirror_mode": {
    "name": "ipython",
    "version": 3
   },
   "file_extension": ".py",
   "mimetype": "text/x-python",
   "name": "python",
   "nbconvert_exporter": "python",
   "pygments_lexer": "ipython3",
   "version": "3.11.6"
  }
 },
 "nbformat": 4,
 "nbformat_minor": 5
}
